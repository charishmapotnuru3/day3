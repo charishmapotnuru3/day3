{
 "cells": [
  {
   "cell_type": "markdown",
   "id": "34806223",
   "metadata": {},
   "source": [
    "### list"
   ]
  },
  {
   "cell_type": "code",
   "execution_count": 1,
   "id": "110c3f1d",
   "metadata": {},
   "outputs": [
    {
     "data": {
      "text/plain": [
       "[1, 2, 3, 7, -1, 'hi', 5.7, 1, 1, 1]"
      ]
     },
     "execution_count": 1,
     "metadata": {},
     "output_type": "execute_result"
    }
   ],
   "source": [
    "sample_list=[1,2,3,7,-1,\"hi\",5.7,1,1,1]\n",
    "sample_list"
   ]
  },
  {
   "cell_type": "code",
   "execution_count": 2,
   "id": "31b1eb5a",
   "metadata": {},
   "outputs": [
    {
     "data": {
      "text/plain": [
       "list"
      ]
     },
     "execution_count": 2,
     "metadata": {},
     "output_type": "execute_result"
    }
   ],
   "source": [
    "type(sample_list)"
   ]
  },
  {
   "cell_type": "code",
   "execution_count": 3,
   "id": "0c99941d",
   "metadata": {},
   "outputs": [
    {
     "data": {
      "text/plain": [
       "'hi'"
      ]
     },
     "execution_count": 3,
     "metadata": {},
     "output_type": "execute_result"
    }
   ],
   "source": [
    "sample_list[5]"
   ]
  },
  {
   "cell_type": "code",
   "execution_count": 4,
   "id": "17dc3908",
   "metadata": {},
   "outputs": [
    {
     "ename": "IndexError",
     "evalue": "list index out of range",
     "output_type": "error",
     "traceback": [
      "\u001b[1;31m---------------------------------------------------------------------------\u001b[0m",
      "\u001b[1;31mIndexError\u001b[0m                                Traceback (most recent call last)",
      "Cell \u001b[1;32mIn[4], line 1\u001b[0m\n\u001b[1;32m----> 1\u001b[0m sample_list[\u001b[38;5;241m10\u001b[39m]\n",
      "\u001b[1;31mIndexError\u001b[0m: list index out of range"
     ]
    }
   ],
   "source": [
    "sample_list[10]"
   ]
  },
  {
   "cell_type": "code",
   "execution_count": 5,
   "id": "ee583695",
   "metadata": {},
   "outputs": [
    {
     "data": {
      "text/plain": [
       "'hi'"
      ]
     },
     "execution_count": 5,
     "metadata": {},
     "output_type": "execute_result"
    }
   ],
   "source": [
    "sample_list[-5]"
   ]
  },
  {
   "cell_type": "code",
   "execution_count": 6,
   "id": "7784e24c",
   "metadata": {},
   "outputs": [
    {
     "data": {
      "text/plain": [
       "[100, 2, 3, 7, -1, 'hi', 5.7, 1, 1, 1]"
      ]
     },
     "execution_count": 6,
     "metadata": {},
     "output_type": "execute_result"
    }
   ],
   "source": [
    "sample_list[0]=100\n",
    "sample_list"
   ]
  },
  {
   "cell_type": "markdown",
   "id": "573f2270",
   "metadata": {},
   "source": [
    "### elements in a list are seperated by comma and enclosed in square brackets"
   ]
  },
  {
   "cell_type": "markdown",
   "id": "abeb2674",
   "metadata": {},
   "source": [
    "### list is hetrogenous->multiple data types\n",
    "\n",
    "\n",
    "### list can have duplicates\n",
    "\n",
    "\n",
    "### list is mutable->make changes"
   ]
  },
  {
   "cell_type": "markdown",
   "id": "15171a22",
   "metadata": {},
   "source": [
    "## tuple\n",
    "### container object\n",
    "### heterogenous->allows multiple data types\n",
    "### can have duplicates\n",
    "### immutable\n",
    "### seperated by comma,enclosed by paranthesis or without any brackets"
   ]
  },
  {
   "cell_type": "code",
   "execution_count": 7,
   "id": "c3261263",
   "metadata": {},
   "outputs": [
    {
     "data": {
      "text/plain": [
       "(1, 5, 6, 8, 'hi', 9, 2)"
      ]
     },
     "execution_count": 7,
     "metadata": {},
     "output_type": "execute_result"
    }
   ],
   "source": [
    "sample_tuple=(1,5,6,8,\"hi\",9,2)\n",
    "sample_tuple"
   ]
  },
  {
   "cell_type": "code",
   "execution_count": 8,
   "id": "ed2ed320",
   "metadata": {},
   "outputs": [
    {
     "data": {
      "text/plain": [
       "5"
      ]
     },
     "execution_count": 8,
     "metadata": {},
     "output_type": "execute_result"
    }
   ],
   "source": [
    "sample_tuple[1]"
   ]
  },
  {
   "cell_type": "code",
   "execution_count": 9,
   "id": "233e972b",
   "metadata": {},
   "outputs": [
    {
     "ename": "TypeError",
     "evalue": "'tuple' object is not callable",
     "output_type": "error",
     "traceback": [
      "\u001b[1;31m---------------------------------------------------------------------------\u001b[0m",
      "\u001b[1;31mTypeError\u001b[0m                                 Traceback (most recent call last)",
      "Cell \u001b[1;32mIn[9], line 1\u001b[0m\n\u001b[1;32m----> 1\u001b[0m sample_tuple(\u001b[38;5;241m3\u001b[39m)\n",
      "\u001b[1;31mTypeError\u001b[0m: 'tuple' object is not callable"
     ]
    }
   ],
   "source": [
    "sample_tuple(3)"
   ]
  },
  {
   "cell_type": "markdown",
   "id": "018085f6",
   "metadata": {},
   "source": [
    "# dictionary\n",
    "### key value pair\n",
    "### {}\n",
    "### indexing-[]\n",
    "### mutable"
   ]
  },
  {
   "cell_type": "code",
   "execution_count": 10,
   "id": "f76dbeef",
   "metadata": {},
   "outputs": [
    {
     "data": {
      "text/plain": [
       "{'name': 'maha', 'hobbies': ['painting', 'singing', 'cooking'], 1: 23}"
      ]
     },
     "execution_count": 10,
     "metadata": {},
     "output_type": "execute_result"
    }
   ],
   "source": [
    "dict_1={'name':\"maha\",\"hobbies\":[\"painting\",\"singing\",\"cooking\"],1:23}\n",
    "dict_1"
   ]
  },
  {
   "cell_type": "code",
   "execution_count": 11,
   "id": "4a9167d8",
   "metadata": {},
   "outputs": [
    {
     "ename": "NameError",
     "evalue": "name 'keys' is not defined",
     "output_type": "error",
     "traceback": [
      "\u001b[1;31m---------------------------------------------------------------------------\u001b[0m",
      "\u001b[1;31mNameError\u001b[0m                                 Traceback (most recent call last)",
      "Cell \u001b[1;32mIn[11], line 1\u001b[0m\n\u001b[1;32m----> 1\u001b[0m dict_1[keys]\n",
      "\u001b[1;31mNameError\u001b[0m: name 'keys' is not defined"
     ]
    }
   ],
   "source": [
    "dict_1[keys]"
   ]
  },
  {
   "cell_type": "code",
   "execution_count": 12,
   "id": "8b7080bf",
   "metadata": {},
   "outputs": [
    {
     "data": {
      "text/plain": [
       "dict_keys(['name', 'hobbies', 1])"
      ]
     },
     "execution_count": 12,
     "metadata": {},
     "output_type": "execute_result"
    }
   ],
   "source": [
    "dict_1.keys()"
   ]
  },
  {
   "cell_type": "code",
   "execution_count": 13,
   "id": "7c86334c",
   "metadata": {},
   "outputs": [
    {
     "data": {
      "text/plain": [
       "dict_values(['maha', ['painting', 'singing', 'cooking'], 23])"
      ]
     },
     "execution_count": 13,
     "metadata": {},
     "output_type": "execute_result"
    }
   ],
   "source": [
    "dict_1.values()"
   ]
  },
  {
   "cell_type": "code",
   "execution_count": 17,
   "id": "3e50e3fd",
   "metadata": {},
   "outputs": [
    {
     "data": {
      "text/plain": [
       "{'hobbies': ['painting', 'singing', 'cooking'], 1: 23, 'name': 'cherry'}"
      ]
     },
     "execution_count": 17,
     "metadata": {},
     "output_type": "execute_result"
    }
   ],
   "source": [
    "dict_1['name']=\"cherry\"\n",
    "dict_1"
   ]
  },
  {
   "cell_type": "code",
   "execution_count": 19,
   "id": "f2e5e21d",
   "metadata": {},
   "outputs": [
    {
     "ename": "SyntaxError",
     "evalue": "invalid syntax (1626101496.py, line 1)",
     "output_type": "error",
     "traceback": [
      "\u001b[1;36m  Cell \u001b[1;32mIn[19], line 1\u001b[1;36m\u001b[0m\n\u001b[1;33m    del.dict_1['name']\u001b[0m\n\u001b[1;37m       ^\u001b[0m\n\u001b[1;31mSyntaxError\u001b[0m\u001b[1;31m:\u001b[0m invalid syntax\n"
     ]
    }
   ],
   "source": [
    "del.dict_1['name']"
   ]
  },
  {
   "cell_type": "code",
   "execution_count": null,
   "id": "3c9e8522",
   "metadata": {},
   "outputs": [],
   "source": []
  },
  {
   "cell_type": "code",
   "execution_count": null,
   "id": "1bb654ae",
   "metadata": {},
   "outputs": [],
   "source": []
  },
  {
   "cell_type": "code",
   "execution_count": null,
   "id": "21daf77f",
   "metadata": {},
   "outputs": [],
   "source": []
  }
 ],
 "metadata": {
  "kernelspec": {
   "display_name": "Python 3 (ipykernel)",
   "language": "python",
   "name": "python3"
  },
  "language_info": {
   "codemirror_mode": {
    "name": "ipython",
    "version": 3
   },
   "file_extension": ".py",
   "mimetype": "text/x-python",
   "name": "python",
   "nbconvert_exporter": "python",
   "pygments_lexer": "ipython3",
   "version": "3.11.5"
  }
 },
 "nbformat": 4,
 "nbformat_minor": 5
}
